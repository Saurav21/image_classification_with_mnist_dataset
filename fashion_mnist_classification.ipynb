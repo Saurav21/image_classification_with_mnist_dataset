{
  "nbformat": 4,
  "nbformat_minor": 0,
  "metadata": {
    "colab": {
      "name": "fashion_mnist_classification.ipynb",
      "provenance": []
    },
    "kernelspec": {
      "name": "python3",
      "display_name": "Python 3"
    },
    "language_info": {
      "name": "python"
    }
  },
  "cells": [
    {
      "cell_type": "code",
      "metadata": {
        "id": "vp89r23X8jNj"
      },
      "source": [
        "import tensorflow as tf"
      ],
      "execution_count": 42,
      "outputs": []
    },
    {
      "cell_type": "code",
      "metadata": {
        "id": "txJ5brmC9an7"
      },
      "source": [
        "# import dataset from keras\n",
        "\n",
        "(x_train, y_train),(x_test, y_test) = tf.keras.datasets.fashion_mnist.load_data()"
      ],
      "execution_count": 69,
      "outputs": []
    },
    {
      "cell_type": "code",
      "metadata": {
        "colab": {
          "base_uri": "https://localhost:8080/"
        },
        "id": "sc3wYzuh9pQJ",
        "outputId": "a1a62d72-bb30-4409-acfe-4d4a9bf328ac"
      },
      "source": [
        "x_train.shape, y_train.shape, x_test.shape, y_test.shape\n"
      ],
      "execution_count": 70,
      "outputs": [
        {
          "output_type": "execute_result",
          "data": {
            "text/plain": [
              "((60000, 28, 28), (60000,), (10000, 28, 28), (10000,))"
            ]
          },
          "metadata": {},
          "execution_count": 70
        }
      ]
    },
    {
      "cell_type": "code",
      "metadata": {
        "id": "vunesmdNBaUF"
      },
      "source": [
        "class_names = ['T-shirt/top', 'Trouser', 'Pullover', 'Dress', 'Coat',\n",
        "               'Sandal', 'Shirt', 'Sneaker', 'Bag', 'Ankle boot']"
      ],
      "execution_count": 71,
      "outputs": []
    },
    {
      "cell_type": "code",
      "metadata": {
        "colab": {
          "base_uri": "https://localhost:8080/",
          "height": 283
        },
        "id": "qtJnrhEs_LNt",
        "outputId": "ffda9f74-f8ae-4f72-b48f-c15f4c71a0ac"
      },
      "source": [
        "# visualizing data\n",
        "\n",
        "import matplotlib.pyplot as plt\n",
        "\n",
        "plt.imshow(x_train[1])"
      ],
      "execution_count": 72,
      "outputs": [
        {
          "output_type": "execute_result",
          "data": {
            "text/plain": [
              "<matplotlib.image.AxesImage at 0x7f1a9595ef90>"
            ]
          },
          "metadata": {},
          "execution_count": 72
        },
        {
          "output_type": "display_data",
          "data": {
            "image/png": "[encoded data removed]",
            "text/plain": [
              "<Figure size 432x288 with 1 Axes>"
            ]
          },
          "metadata": {
            "needs_background": "light"
          }
        }
      ]
    },
    {
      "cell_type": "markdown",
      "metadata": {
        "id": "AJ23OMMxCg1H"
      },
      "source": [
        "##**Preprocessing the data**"
      ]
    },
    {
      "cell_type": "code",
      "metadata": {
        "id": "Sx8-ajgQ_P4V"
      },
      "source": [
        "x_train = x_train/255. \n",
        "x_test = x_test/255."
      ],
      "execution_count": 73,
      "outputs": []
    },
    {
      "cell_type": "code",
      "metadata": {
        "colab": {
          "base_uri": "https://localhost:8080/"
        },
        "id": "PBTqKfs1_P01",
        "outputId": "c1f9b859-9f8f-4aec-cd7a-16a7ddd2c2ac"
      },
      "source": [
        "x_train.shape,x_test.shape"
      ],
      "execution_count": 74,
      "outputs": [
        {
          "output_type": "execute_result",
          "data": {
            "text/plain": [
              "((60000, 28, 28), (10000, 28, 28))"
            ]
          },
          "metadata": {},
          "execution_count": 74
        }
      ]
    },
    {
      "cell_type": "code",
      "metadata": {
        "colab": {
          "base_uri": "https://localhost:8080/"
        },
        "id": "eMFAxtcAQw5L",
        "outputId": "d3d9f931-21c9-43fa-abcd-c529b67f98c3"
      },
      "source": [
        "x_test = x_test.reshape(x_test.shape[0], * (28,28,1) )\n",
        "\n",
        "x_train = x_train.reshape(x_train.shape[0], * (28,28,1))\n",
        "\n",
        "x_test.shape, x_train.shape"
      ],
      "execution_count": 77,
      "outputs": [
        {
          "output_type": "execute_result",
          "data": {
            "text/plain": [
              "((10000, 28, 28, 1), (60000, 28, 28, 1))"
            ]
          },
          "metadata": {},
          "execution_count": 77
        }
      ]
    },
    {
      "cell_type": "code",
      "metadata": {
        "colab": {
          "base_uri": "https://localhost:8080/"
        },
        "id": "6hGf2Lkb_Pwn",
        "outputId": "a8e932bc-a776-4356-9f48-a1cb1733dda1"
      },
      "source": [
        "# building the model\n",
        "\n",
        "import tensorflow as tf\n",
        "from tensorflow.keras import layers\n",
        "\n",
        "\n",
        "inputs = layers.Input(shape=(28,28,1))\n",
        "\n",
        "x = layers.Conv2D(filters= 64, kernel_size= 3, activation= \"relu\")(inputs)\n",
        "x = layers.MaxPooling2D(pool_size= 2)(x)\n",
        "x = layers.Conv2D(filters= 64, kernel_size= 3, activation= \"relu\")(x)\n",
        "x = layers.MaxPooling2D(pool_size= 2)(x)\n",
        "\n",
        "x = layers.Flatten()(x)\n",
        "\n",
        "x = layers.Dense(64, activation= \"relu\")(x)\n",
        "\n",
        "outputs = layers.Dense(10, activation= \"softmax\")(x)\n",
        "\n",
        "model = tf.keras.Model(inputs, outputs)\n",
        "\n",
        "\n",
        "\n",
        "# compiling the model\n",
        "\n",
        "model.compile(\n",
        "    loss = tf.keras.losses.sparse_categorical_crossentropy,\n",
        "    optimizer = tf.keras.optimizers.Adam(learning_rate= 0.001),\n",
        "    metrics = [\"accuracy\"]\n",
        ")\n",
        "\n",
        "# fitting the model\n",
        "\n",
        "model_hist = model.fit(\n",
        "    x_train,y_train,\n",
        "    epochs = 150,\n",
        "    batch_size = 64,\n",
        "    validation_data = (x_test,y_test),\n",
        ")\n",
        "\n",
        "\n",
        "\n",
        "\n"
      ],
      "execution_count": 11,
      "outputs": [
        {
          "output_type": "stream",
          "name": "stdout",
          "text": [
            "Epoch 1/150\n",
            "938/938 [==============================] - 37s 8ms/step - loss: 0.4955 - accuracy: 0.8229 - val_loss: 0.3786 - val_accuracy: 0.8637\n",
            "Epoch 2/150\n",
            "938/938 [==============================] - 7s 7ms/step - loss: 0.3277 - accuracy: 0.8806 - val_loss: 0.3378 - val_accuracy: 0.8805\n",
            "Epoch 3/150\n",
            "938/938 [==============================] - 7s 7ms/step - loss: 0.2831 - accuracy: 0.8959 - val_loss: 0.3026 - val_accuracy: 0.8900\n",
            "Epoch 4/150\n",
            "938/938 [==============================] - 7s 7ms/step - loss: 0.2536 - accuracy: 0.9076 - val_loss: 0.2766 - val_accuracy: 0.9002\n",
            "Epoch 5/150\n",
            "938/938 [==============================] - 7s 7ms/step - loss: 0.2276 - accuracy: 0.9165 - val_loss: 0.2552 - val_accuracy: 0.9095\n",
            "Epoch 6/150\n",
            "938/938 [==============================] - 7s 7ms/step - loss: 0.2054 - accuracy: 0.9246 - val_loss: 0.2743 - val_accuracy: 0.8999\n",
            "Epoch 7/150\n",
            "938/938 [==============================] - 7s 7ms/step - loss: 0.1908 - accuracy: 0.9291 - val_loss: 0.2619 - val_accuracy: 0.9065\n",
            "Epoch 8/150\n",
            "938/938 [==============================] - 7s 7ms/step - loss: 0.1730 - accuracy: 0.9362 - val_loss: 0.2820 - val_accuracy: 0.9027\n",
            "Epoch 9/150\n",
            "938/938 [==============================] - 7s 7ms/step - loss: 0.1600 - accuracy: 0.9404 - val_loss: 0.2719 - val_accuracy: 0.9082\n",
            "Epoch 10/150\n",
            "938/938 [==============================] - 7s 7ms/step - loss: 0.1492 - accuracy: 0.9442 - val_loss: 0.2650 - val_accuracy: 0.9076\n",
            "Epoch 11/150\n",
            "938/938 [==============================] - 7s 7ms/step - loss: 0.1348 - accuracy: 0.9494 - val_loss: 0.2591 - val_accuracy: 0.9130\n",
            "Epoch 12/150\n",
            "938/938 [==============================] - 7s 7ms/step - loss: 0.1227 - accuracy: 0.9549 - val_loss: 0.2755 - val_accuracy: 0.9070\n",
            "Epoch 13/150\n",
            "938/938 [==============================] - 7s 7ms/step - loss: 0.1114 - accuracy: 0.9584 - val_loss: 0.2885 - val_accuracy: 0.9138\n",
            "Epoch 14/150\n",
            "938/938 [==============================] - 7s 7ms/step - loss: 0.1046 - accuracy: 0.9607 - val_loss: 0.3025 - val_accuracy: 0.9124\n",
            "Epoch 15/150\n",
            "938/938 [==============================] - 7s 7ms/step - loss: 0.0942 - accuracy: 0.9654 - val_loss: 0.3094 - val_accuracy: 0.9120\n",
            "Epoch 16/150\n",
            "938/938 [==============================] - 7s 7ms/step - loss: 0.0844 - accuracy: 0.9683 - val_loss: 0.3286 - val_accuracy: 0.9092\n",
            "Epoch 17/150\n",
            "938/938 [==============================] - 7s 7ms/step - loss: 0.0783 - accuracy: 0.9707 - val_loss: 0.3487 - val_accuracy: 0.9092\n",
            "Epoch 18/150\n",
            "938/938 [==============================] - 7s 7ms/step - loss: 0.0737 - accuracy: 0.9724 - val_loss: 0.3357 - val_accuracy: 0.9138\n",
            "Epoch 19/150\n",
            "938/938 [==============================] - 7s 7ms/step - loss: 0.0666 - accuracy: 0.9755 - val_loss: 0.3605 - val_accuracy: 0.9104\n",
            "Epoch 20/150\n",
            "938/938 [==============================] - 7s 7ms/step - loss: 0.0605 - accuracy: 0.9769 - val_loss: 0.3603 - val_accuracy: 0.9121\n",
            "Epoch 21/150\n",
            "938/938 [==============================] - 7s 7ms/step - loss: 0.0582 - accuracy: 0.9778 - val_loss: 0.4092 - val_accuracy: 0.9091\n",
            "Epoch 22/150\n",
            "938/938 [==============================] - 7s 7ms/step - loss: 0.0518 - accuracy: 0.9806 - val_loss: 0.3917 - val_accuracy: 0.9154\n",
            "Epoch 23/150\n",
            "938/938 [==============================] - 7s 7ms/step - loss: 0.0484 - accuracy: 0.9821 - val_loss: 0.4458 - val_accuracy: 0.8997\n",
            "Epoch 24/150\n",
            "938/938 [==============================] - 7s 7ms/step - loss: 0.0443 - accuracy: 0.9841 - val_loss: 0.4434 - val_accuracy: 0.9086\n",
            "Epoch 25/150\n",
            "938/938 [==============================] - 7s 7ms/step - loss: 0.0436 - accuracy: 0.9832 - val_loss: 0.4618 - val_accuracy: 0.9085\n",
            "Epoch 26/150\n",
            "938/938 [==============================] - 7s 7ms/step - loss: 0.0390 - accuracy: 0.9854 - val_loss: 0.4586 - val_accuracy: 0.9114\n",
            "Epoch 27/150\n",
            "938/938 [==============================] - 7s 7ms/step - loss: 0.0385 - accuracy: 0.9857 - val_loss: 0.4798 - val_accuracy: 0.9062\n",
            "Epoch 28/150\n",
            "938/938 [==============================] - 7s 7ms/step - loss: 0.0329 - accuracy: 0.9880 - val_loss: 0.4769 - val_accuracy: 0.9077\n",
            "Epoch 29/150\n",
            "938/938 [==============================] - 7s 7ms/step - loss: 0.0397 - accuracy: 0.9854 - val_loss: 0.5381 - val_accuracy: 0.9083\n",
            "Epoch 30/150\n",
            "938/938 [==============================] - 7s 7ms/step - loss: 0.0324 - accuracy: 0.9879 - val_loss: 0.5356 - val_accuracy: 0.9078\n",
            "Epoch 31/150\n",
            "938/938 [==============================] - 7s 7ms/step - loss: 0.0308 - accuracy: 0.9887 - val_loss: 0.5353 - val_accuracy: 0.9063\n",
            "Epoch 32/150\n",
            "938/938 [==============================] - 7s 7ms/step - loss: 0.0281 - accuracy: 0.9894 - val_loss: 0.5981 - val_accuracy: 0.9085\n",
            "Epoch 33/150\n",
            "938/938 [==============================] - 7s 7ms/step - loss: 0.0243 - accuracy: 0.9917 - val_loss: 0.5726 - val_accuracy: 0.9073\n",
            "Epoch 34/150\n",
            "938/938 [==============================] - 7s 7ms/step - loss: 0.0306 - accuracy: 0.9883 - val_loss: 0.6058 - val_accuracy: 0.9077\n",
            "Epoch 35/150\n",
            "938/938 [==============================] - 7s 7ms/step - loss: 0.0291 - accuracy: 0.9892 - val_loss: 0.5975 - val_accuracy: 0.9102\n",
            "Epoch 36/150\n",
            "938/938 [==============================] - 7s 7ms/step - loss: 0.0231 - accuracy: 0.9918 - val_loss: 0.6250 - val_accuracy: 0.9057\n",
            "Epoch 37/150\n",
            "938/938 [==============================] - 7s 7ms/step - loss: 0.0276 - accuracy: 0.9902 - val_loss: 0.6273 - val_accuracy: 0.9094\n",
            "Epoch 38/150\n",
            "938/938 [==============================] - 7s 7ms/step - loss: 0.0221 - accuracy: 0.9920 - val_loss: 0.6739 - val_accuracy: 0.9107\n",
            "Epoch 39/150\n",
            "938/938 [==============================] - 7s 7ms/step - loss: 0.0190 - accuracy: 0.9933 - val_loss: 0.6457 - val_accuracy: 0.9070\n",
            "Epoch 40/150\n",
            "938/938 [==============================] - 7s 7ms/step - loss: 0.0278 - accuracy: 0.9900 - val_loss: 0.6542 - val_accuracy: 0.9073\n",
            "Epoch 41/150\n",
            "938/938 [==============================] - 7s 7ms/step - loss: 0.0249 - accuracy: 0.9907 - val_loss: 0.6531 - val_accuracy: 0.9091\n",
            "Epoch 42/150\n",
            "938/938 [==============================] - 7s 7ms/step - loss: 0.0225 - accuracy: 0.9920 - val_loss: 0.6918 - val_accuracy: 0.9082\n",
            "Epoch 43/150\n",
            "938/938 [==============================] - 7s 7ms/step - loss: 0.0198 - accuracy: 0.9928 - val_loss: 0.7411 - val_accuracy: 0.9107\n",
            "Epoch 44/150\n",
            "938/938 [==============================] - 7s 7ms/step - loss: 0.0211 - accuracy: 0.9925 - val_loss: 0.6668 - val_accuracy: 0.9046\n",
            "Epoch 45/150\n",
            "938/938 [==============================] - 7s 7ms/step - loss: 0.0180 - accuracy: 0.9933 - val_loss: 0.6887 - val_accuracy: 0.9096\n",
            "Epoch 46/150\n",
            "938/938 [==============================] - 7s 7ms/step - loss: 0.0199 - accuracy: 0.9931 - val_loss: 0.7185 - val_accuracy: 0.9061\n",
            "Epoch 47/150\n",
            "938/938 [==============================] - 7s 7ms/step - loss: 0.0214 - accuracy: 0.9925 - val_loss: 0.7303 - val_accuracy: 0.9104\n",
            "Epoch 48/150\n",
            "938/938 [==============================] - 7s 7ms/step - loss: 0.0182 - accuracy: 0.9939 - val_loss: 0.7202 - val_accuracy: 0.9043\n",
            "Epoch 49/150\n",
            "938/938 [==============================] - 7s 7ms/step - loss: 0.0180 - accuracy: 0.9937 - val_loss: 0.7552 - val_accuracy: 0.9051\n",
            "Epoch 50/150\n",
            "938/938 [==============================] - 7s 7ms/step - loss: 0.0186 - accuracy: 0.9937 - val_loss: 0.7870 - val_accuracy: 0.9066\n",
            "Epoch 51/150\n",
            "938/938 [==============================] - 7s 7ms/step - loss: 0.0237 - accuracy: 0.9922 - val_loss: 0.7583 - val_accuracy: 0.9114\n",
            "Epoch 52/150\n",
            "938/938 [==============================] - 7s 7ms/step - loss: 0.0138 - accuracy: 0.9952 - val_loss: 0.7640 - val_accuracy: 0.9104\n",
            "Epoch 53/150\n",
            "938/938 [==============================] - 7s 7ms/step - loss: 0.0196 - accuracy: 0.9931 - val_loss: 0.7563 - val_accuracy: 0.9112\n",
            "Epoch 54/150\n",
            "938/938 [==============================] - 7s 7ms/step - loss: 0.0177 - accuracy: 0.9937 - val_loss: 0.7792 - val_accuracy: 0.9095\n",
            "Epoch 55/150\n",
            "938/938 [==============================] - 7s 7ms/step - loss: 0.0180 - accuracy: 0.9940 - val_loss: 0.7713 - val_accuracy: 0.9053\n",
            "Epoch 56/150\n",
            "938/938 [==============================] - 7s 7ms/step - loss: 0.0196 - accuracy: 0.9931 - val_loss: 0.7855 - val_accuracy: 0.9094\n",
            "Epoch 57/150\n",
            "938/938 [==============================] - 7s 7ms/step - loss: 0.0157 - accuracy: 0.9948 - val_loss: 0.8276 - val_accuracy: 0.9089\n",
            "Epoch 58/150\n",
            "938/938 [==============================] - 7s 7ms/step - loss: 0.0182 - accuracy: 0.9937 - val_loss: 0.8495 - val_accuracy: 0.9082\n",
            "Epoch 59/150\n",
            "938/938 [==============================] - 7s 7ms/step - loss: 0.0138 - accuracy: 0.9954 - val_loss: 0.7970 - val_accuracy: 0.9116\n",
            "Epoch 60/150\n",
            "938/938 [==============================] - 7s 7ms/step - loss: 0.0196 - accuracy: 0.9932 - val_loss: 0.8258 - val_accuracy: 0.9110\n",
            "Epoch 61/150\n",
            "938/938 [==============================] - 7s 7ms/step - loss: 0.0158 - accuracy: 0.9948 - val_loss: 0.8337 - val_accuracy: 0.9097\n",
            "Epoch 62/150\n",
            "938/938 [==============================] - 7s 7ms/step - loss: 0.0160 - accuracy: 0.9946 - val_loss: 0.8247 - val_accuracy: 0.9053\n",
            "Epoch 63/150\n",
            "938/938 [==============================] - 7s 7ms/step - loss: 0.0183 - accuracy: 0.9938 - val_loss: 0.8084 - val_accuracy: 0.9081\n",
            "Epoch 64/150\n",
            "938/938 [==============================] - 7s 7ms/step - loss: 0.0167 - accuracy: 0.9948 - val_loss: 0.8424 - val_accuracy: 0.9077\n",
            "Epoch 65/150\n",
            "938/938 [==============================] - 7s 7ms/step - loss: 0.0154 - accuracy: 0.9948 - val_loss: 0.9287 - val_accuracy: 0.9050\n",
            "Epoch 66/150\n",
            "938/938 [==============================] - 7s 7ms/step - loss: 0.0165 - accuracy: 0.9945 - val_loss: 0.8406 - val_accuracy: 0.9089\n",
            "Epoch 67/150\n",
            "938/938 [==============================] - 7s 7ms/step - loss: 0.0175 - accuracy: 0.9942 - val_loss: 0.8611 - val_accuracy: 0.9040\n",
            "Epoch 68/150\n",
            "938/938 [==============================] - 7s 7ms/step - loss: 0.0176 - accuracy: 0.9944 - val_loss: 0.8832 - val_accuracy: 0.9099\n",
            "Epoch 69/150\n",
            "938/938 [==============================] - 7s 7ms/step - loss: 0.0135 - accuracy: 0.9956 - val_loss: 0.9187 - val_accuracy: 0.9089\n",
            "Epoch 70/150\n",
            "938/938 [==============================] - 7s 7ms/step - loss: 0.0151 - accuracy: 0.9949 - val_loss: 0.9145 - val_accuracy: 0.9075\n",
            "Epoch 71/150\n",
            "938/938 [==============================] - 7s 7ms/step - loss: 0.0133 - accuracy: 0.9956 - val_loss: 0.9236 - val_accuracy: 0.9038\n",
            "Epoch 72/150\n",
            "938/938 [==============================] - 7s 7ms/step - loss: 0.0129 - accuracy: 0.9956 - val_loss: 0.9935 - val_accuracy: 0.9072\n",
            "Epoch 73/150\n",
            "938/938 [==============================] - 7s 7ms/step - loss: 0.0186 - accuracy: 0.9940 - val_loss: 0.9374 - val_accuracy: 0.9046\n",
            "Epoch 74/150\n",
            "938/938 [==============================] - 7s 7ms/step - loss: 0.0082 - accuracy: 0.9974 - val_loss: 0.9650 - val_accuracy: 0.9110\n",
            "Epoch 75/150\n",
            "938/938 [==============================] - 7s 7ms/step - loss: 0.0213 - accuracy: 0.9929 - val_loss: 0.9330 - val_accuracy: 0.9073\n",
            "Epoch 76/150\n",
            "938/938 [==============================] - 7s 7ms/step - loss: 0.0098 - accuracy: 0.9967 - val_loss: 0.9697 - val_accuracy: 0.9111\n",
            "Epoch 77/150\n",
            "938/938 [==============================] - 7s 7ms/step - loss: 0.0174 - accuracy: 0.9944 - val_loss: 0.9112 - val_accuracy: 0.9097\n",
            "Epoch 78/150\n",
            "938/938 [==============================] - 7s 7ms/step - loss: 0.0145 - accuracy: 0.9953 - val_loss: 0.9746 - val_accuracy: 0.9095\n",
            "Epoch 79/150\n",
            "938/938 [==============================] - 7s 7ms/step - loss: 0.0150 - accuracy: 0.9953 - val_loss: 0.9305 - val_accuracy: 0.9083\n",
            "Epoch 80/150\n",
            "938/938 [==============================] - 7s 7ms/step - loss: 0.0126 - accuracy: 0.9960 - val_loss: 1.0312 - val_accuracy: 0.9076\n",
            "Epoch 81/150\n",
            "938/938 [==============================] - 7s 7ms/step - loss: 0.0107 - accuracy: 0.9966 - val_loss: 1.0357 - val_accuracy: 0.9066\n",
            "Epoch 82/150\n",
            "938/938 [==============================] - 7s 7ms/step - loss: 0.0206 - accuracy: 0.9932 - val_loss: 1.0617 - val_accuracy: 0.9071\n",
            "Epoch 83/150\n",
            "938/938 [==============================] - 7s 7ms/step - loss: 0.0161 - accuracy: 0.9953 - val_loss: 0.9806 - val_accuracy: 0.9077\n",
            "Epoch 84/150\n",
            "938/938 [==============================] - 7s 7ms/step - loss: 0.0085 - accuracy: 0.9969 - val_loss: 0.9356 - val_accuracy: 0.9077\n",
            "Epoch 85/150\n",
            "938/938 [==============================] - 7s 7ms/step - loss: 0.0084 - accuracy: 0.9972 - val_loss: 1.0650 - val_accuracy: 0.9047\n",
            "Epoch 86/150\n",
            "938/938 [==============================] - 7s 7ms/step - loss: 0.0177 - accuracy: 0.9943 - val_loss: 1.0418 - val_accuracy: 0.9080\n",
            "Epoch 87/150\n",
            "938/938 [==============================] - 7s 7ms/step - loss: 0.0127 - accuracy: 0.9959 - val_loss: 1.1113 - val_accuracy: 0.9084\n",
            "Epoch 88/150\n",
            "938/938 [==============================] - 7s 7ms/step - loss: 0.0130 - accuracy: 0.9958 - val_loss: 1.0790 - val_accuracy: 0.9078\n",
            "Epoch 89/150\n",
            "938/938 [==============================] - 7s 7ms/step - loss: 0.0117 - accuracy: 0.9963 - val_loss: 1.0584 - val_accuracy: 0.9064\n",
            "Epoch 90/150\n",
            "938/938 [==============================] - 7s 7ms/step - loss: 0.0152 - accuracy: 0.9954 - val_loss: 1.0735 - val_accuracy: 0.9081\n",
            "Epoch 91/150\n",
            "938/938 [==============================] - 7s 7ms/step - loss: 0.0118 - accuracy: 0.9963 - val_loss: 0.9915 - val_accuracy: 0.9043\n",
            "Epoch 92/150\n",
            "938/938 [==============================] - 7s 7ms/step - loss: 0.0127 - accuracy: 0.9958 - val_loss: 1.1060 - val_accuracy: 0.9075\n",
            "Epoch 93/150\n",
            "938/938 [==============================] - 7s 7ms/step - loss: 0.0125 - accuracy: 0.9963 - val_loss: 1.0227 - val_accuracy: 0.9078\n",
            "Epoch 94/150\n",
            "938/938 [==============================] - 7s 7ms/step - loss: 0.0117 - accuracy: 0.9962 - val_loss: 1.0806 - val_accuracy: 0.9078\n",
            "Epoch 95/150\n",
            "938/938 [==============================] - 7s 7ms/step - loss: 0.0133 - accuracy: 0.9956 - val_loss: 1.0678 - val_accuracy: 0.9078\n",
            "Epoch 96/150\n",
            "938/938 [==============================] - 7s 7ms/step - loss: 0.0111 - accuracy: 0.9966 - val_loss: 1.0799 - val_accuracy: 0.9085\n",
            "Epoch 97/150\n",
            "938/938 [==============================] - 7s 7ms/step - loss: 0.0161 - accuracy: 0.9951 - val_loss: 1.1703 - val_accuracy: 0.9101\n",
            "Epoch 98/150\n",
            "938/938 [==============================] - 7s 8ms/step - loss: 0.0135 - accuracy: 0.9959 - val_loss: 1.0974 - val_accuracy: 0.9102\n",
            "Epoch 99/150\n",
            "938/938 [==============================] - 7s 7ms/step - loss: 0.0075 - accuracy: 0.9976 - val_loss: 1.1161 - val_accuracy: 0.9055\n",
            "Epoch 100/150\n",
            "938/938 [==============================] - 7s 7ms/step - loss: 0.0167 - accuracy: 0.9947 - val_loss: 1.1370 - val_accuracy: 0.9073\n",
            "Epoch 101/150\n",
            "938/938 [==============================] - 7s 7ms/step - loss: 0.0086 - accuracy: 0.9970 - val_loss: 1.0960 - val_accuracy: 0.9048\n",
            "Epoch 102/150\n",
            "938/938 [==============================] - 7s 7ms/step - loss: 0.0125 - accuracy: 0.9962 - val_loss: 1.0580 - val_accuracy: 0.9082\n",
            "Epoch 103/150\n",
            "938/938 [==============================] - 7s 7ms/step - loss: 0.0132 - accuracy: 0.9959 - val_loss: 1.1063 - val_accuracy: 0.9095\n",
            "Epoch 104/150\n",
            "938/938 [==============================] - 7s 7ms/step - loss: 0.0102 - accuracy: 0.9968 - val_loss: 1.1338 - val_accuracy: 0.9082\n",
            "Epoch 105/150\n",
            "938/938 [==============================] - 7s 7ms/step - loss: 0.0082 - accuracy: 0.9973 - val_loss: 1.1313 - val_accuracy: 0.9118\n",
            "Epoch 106/150\n",
            "938/938 [==============================] - 7s 7ms/step - loss: 0.0139 - accuracy: 0.9960 - val_loss: 1.1476 - val_accuracy: 0.8994\n",
            "Epoch 107/150\n",
            "938/938 [==============================] - 7s 7ms/step - loss: 0.0131 - accuracy: 0.9958 - val_loss: 1.1801 - val_accuracy: 0.9067\n",
            "Epoch 108/150\n",
            "938/938 [==============================] - 7s 7ms/step - loss: 0.0072 - accuracy: 0.9974 - val_loss: 1.1621 - val_accuracy: 0.9088\n",
            "Epoch 109/150\n",
            "938/938 [==============================] - 7s 7ms/step - loss: 0.0149 - accuracy: 0.9954 - val_loss: 1.0813 - val_accuracy: 0.9103\n",
            "Epoch 110/150\n",
            "938/938 [==============================] - 7s 7ms/step - loss: 0.0117 - accuracy: 0.9966 - val_loss: 1.1871 - val_accuracy: 0.9068\n",
            "Epoch 111/150\n",
            "938/938 [==============================] - 7s 7ms/step - loss: 0.0114 - accuracy: 0.9965 - val_loss: 1.1824 - val_accuracy: 0.9078\n",
            "Epoch 112/150\n",
            "938/938 [==============================] - 7s 7ms/step - loss: 0.0071 - accuracy: 0.9981 - val_loss: 1.1627 - val_accuracy: 0.9086\n",
            "Epoch 113/150\n",
            "938/938 [==============================] - 7s 7ms/step - loss: 0.0152 - accuracy: 0.9956 - val_loss: 1.2363 - val_accuracy: 0.9064\n",
            "Epoch 114/150\n",
            "938/938 [==============================] - 7s 7ms/step - loss: 0.0118 - accuracy: 0.9963 - val_loss: 1.1524 - val_accuracy: 0.9066\n",
            "Epoch 115/150\n",
            "938/938 [==============================] - 7s 7ms/step - loss: 0.0054 - accuracy: 0.9982 - val_loss: 1.1739 - val_accuracy: 0.9018\n",
            "Epoch 116/150\n",
            "938/938 [==============================] - 7s 7ms/step - loss: 0.0178 - accuracy: 0.9950 - val_loss: 1.1324 - val_accuracy: 0.9020\n",
            "Epoch 117/150\n",
            "938/938 [==============================] - 7s 7ms/step - loss: 0.0099 - accuracy: 0.9969 - val_loss: 1.2311 - val_accuracy: 0.9092\n",
            "Epoch 118/150\n",
            "938/938 [==============================] - 7s 7ms/step - loss: 0.0089 - accuracy: 0.9974 - val_loss: 1.2148 - val_accuracy: 0.9079\n",
            "Epoch 119/150\n",
            "938/938 [==============================] - 7s 7ms/step - loss: 0.0117 - accuracy: 0.9963 - val_loss: 1.2325 - val_accuracy: 0.9100\n",
            "Epoch 120/150\n",
            "938/938 [==============================] - 7s 7ms/step - loss: 0.0165 - accuracy: 0.9952 - val_loss: 1.1957 - val_accuracy: 0.9071\n",
            "Epoch 121/150\n",
            "938/938 [==============================] - 7s 7ms/step - loss: 0.0068 - accuracy: 0.9979 - val_loss: 1.2211 - val_accuracy: 0.9077\n",
            "Epoch 122/150\n",
            "938/938 [==============================] - 7s 7ms/step - loss: 0.0136 - accuracy: 0.9961 - val_loss: 1.1957 - val_accuracy: 0.9023\n",
            "Epoch 123/150\n",
            "938/938 [==============================] - 7s 7ms/step - loss: 0.0043 - accuracy: 0.9987 - val_loss: 1.2747 - val_accuracy: 0.9016\n",
            "Epoch 124/150\n",
            "938/938 [==============================] - 7s 7ms/step - loss: 0.0134 - accuracy: 0.9961 - val_loss: 1.2349 - val_accuracy: 0.9063\n",
            "Epoch 125/150\n",
            "938/938 [==============================] - 7s 7ms/step - loss: 0.0084 - accuracy: 0.9970 - val_loss: 1.2066 - val_accuracy: 0.9019\n",
            "Epoch 126/150\n",
            "938/938 [==============================] - 7s 7ms/step - loss: 0.0146 - accuracy: 0.9958 - val_loss: 1.2452 - val_accuracy: 0.9048\n",
            "Epoch 127/150\n",
            "938/938 [==============================] - 7s 7ms/step - loss: 0.0114 - accuracy: 0.9969 - val_loss: 1.2409 - val_accuracy: 0.9089\n",
            "Epoch 128/150\n",
            "938/938 [==============================] - 7s 7ms/step - loss: 0.0105 - accuracy: 0.9968 - val_loss: 1.2588 - val_accuracy: 0.9040\n",
            "Epoch 129/150\n",
            "938/938 [==============================] - 7s 7ms/step - loss: 0.0120 - accuracy: 0.9968 - val_loss: 1.2076 - val_accuracy: 0.9091\n",
            "Epoch 130/150\n",
            "938/938 [==============================] - 7s 7ms/step - loss: 0.0112 - accuracy: 0.9964 - val_loss: 1.2887 - val_accuracy: 0.9069\n",
            "Epoch 131/150\n",
            "938/938 [==============================] - 7s 7ms/step - loss: 0.0110 - accuracy: 0.9969 - val_loss: 1.2160 - val_accuracy: 0.9075\n",
            "Epoch 132/150\n",
            "938/938 [==============================] - 7s 7ms/step - loss: 0.0098 - accuracy: 0.9968 - val_loss: 1.2833 - val_accuracy: 0.9038\n",
            "Epoch 133/150\n",
            "938/938 [==============================] - 7s 7ms/step - loss: 0.0058 - accuracy: 0.9981 - val_loss: 1.2618 - val_accuracy: 0.9070\n",
            "Epoch 134/150\n",
            "938/938 [==============================] - 7s 8ms/step - loss: 0.0127 - accuracy: 0.9960 - val_loss: 1.2495 - val_accuracy: 0.9055\n",
            "Epoch 135/150\n",
            "938/938 [==============================] - 7s 7ms/step - loss: 0.0078 - accuracy: 0.9978 - val_loss: 1.2721 - val_accuracy: 0.9035\n",
            "Epoch 136/150\n",
            "938/938 [==============================] - 7s 7ms/step - loss: 0.0120 - accuracy: 0.9967 - val_loss: 1.2613 - val_accuracy: 0.9066\n",
            "Epoch 137/150\n",
            "938/938 [==============================] - 7s 7ms/step - loss: 0.0122 - accuracy: 0.9966 - val_loss: 1.2720 - val_accuracy: 0.9070\n",
            "Epoch 138/150\n",
            "938/938 [==============================] - 7s 7ms/step - loss: 0.0091 - accuracy: 0.9973 - val_loss: 1.2547 - val_accuracy: 0.9074\n",
            "Epoch 139/150\n",
            "938/938 [==============================] - 7s 7ms/step - loss: 0.0099 - accuracy: 0.9970 - val_loss: 1.3465 - val_accuracy: 0.9061\n",
            "Epoch 140/150\n",
            "938/938 [==============================] - 7s 7ms/step - loss: 0.0090 - accuracy: 0.9974 - val_loss: 1.2985 - val_accuracy: 0.9079\n",
            "Epoch 141/150\n",
            "938/938 [==============================] - 7s 7ms/step - loss: 0.0111 - accuracy: 0.9967 - val_loss: 1.4558 - val_accuracy: 0.9074\n",
            "Epoch 142/150\n",
            "938/938 [==============================] - 7s 7ms/step - loss: 0.0124 - accuracy: 0.9966 - val_loss: 1.3758 - val_accuracy: 0.9063\n",
            "Epoch 143/150\n",
            "938/938 [==============================] - 7s 7ms/step - loss: 0.0101 - accuracy: 0.9971 - val_loss: 1.3756 - val_accuracy: 0.9071\n",
            "Epoch 144/150\n",
            "938/938 [==============================] - 7s 7ms/step - loss: 0.0073 - accuracy: 0.9976 - val_loss: 1.2442 - val_accuracy: 0.9103\n",
            "Epoch 145/150\n",
            "938/938 [==============================] - 7s 7ms/step - loss: 0.0115 - accuracy: 0.9967 - val_loss: 1.2955 - val_accuracy: 0.9090\n",
            "Epoch 146/150\n",
            "938/938 [==============================] - 7s 7ms/step - loss: 0.0098 - accuracy: 0.9974 - val_loss: 1.2517 - val_accuracy: 0.9038\n",
            "Epoch 147/150\n",
            "938/938 [==============================] - 7s 7ms/step - loss: 0.0109 - accuracy: 0.9969 - val_loss: 1.2705 - val_accuracy: 0.9084\n",
            "Epoch 148/150\n",
            "938/938 [==============================] - 7s 7ms/step - loss: 0.0113 - accuracy: 0.9969 - val_loss: 1.3508 - val_accuracy: 0.9061\n",
            "Epoch 149/150\n",
            "938/938 [==============================] - 7s 7ms/step - loss: 0.0076 - accuracy: 0.9977 - val_loss: 1.4450 - val_accuracy: 0.9090\n",
            "Epoch 150/150\n",
            "938/938 [==============================] - 7s 7ms/step - loss: 0.0165 - accuracy: 0.9954 - val_loss: 1.2947 - val_accuracy: 0.9091\n"
          ]
        }
      ]
    },
    {
      "cell_type": "code",
      "metadata": {
        "colab": {
          "base_uri": "https://localhost:8080/"
        },
        "id": "cNGtMsqp_Ptm",
        "outputId": "237a6d7e-d91e-476a-8d4d-558352bdd116"
      },
      "source": [
        "model_hist.history.keys()"
      ],
      "execution_count": 12,
      "outputs": [
        {
          "output_type": "execute_result",
          "data": {
            "text/plain": [
              "dict_keys(['loss', 'accuracy', 'val_loss', 'val_accuracy'])"
            ]
          },
          "metadata": {},
          "execution_count": 12
        }
      ]
    },
    {
      "cell_type": "code",
      "metadata": {
        "colab": {
          "base_uri": "https://localhost:8080/",
          "height": 283
        },
        "id": "oAvM1g0B_Pk9",
        "outputId": "5597cf6c-2a17-4a42-8e50-2e85fa14e0d1"
      },
      "source": [
        "# plotting the training loss and validation loss\n",
        "\n",
        "import matplotlib.pyplot as plt\n",
        "\n",
        "plt.plot(model_hist.history[\"loss\"])\n",
        "plt.plot(model_hist.history[\"val_loss\"])\n"
      ],
      "execution_count": 14,
      "outputs": [
        {
          "output_type": "execute_result",
          "data": {
            "text/plain": [
              "[<matplotlib.lines.Line2D at 0x7f957225e8d0>]"
            ]
          },
          "metadata": {},
          "execution_count": 14
        },
        {
          "output_type": "display_data",
          "data": {
            "image/png": "[encoded data removed]",
            "text/plain": [
              "<Figure size 432x288 with 1 Axes>"
            ]
          },
          "metadata": {
            "needs_background": "light"
          }
        }
      ]
    },
    {
      "cell_type": "code",
      "metadata": {
        "colab": {
          "base_uri": "https://localhost:8080/",
          "height": 283
        },
        "id": "safx8jx9QFJU",
        "outputId": "6ce907ed-9135-4070-8ffc-39941c344275"
      },
      "source": [
        "# plotting the training loss and validation loss\n",
        "\n",
        "import matplotlib.pyplot as plt\n",
        "\n",
        "plt.plot(model_hist.history[\"accuracy\"])\n",
        "plt.plot(model_hist.history[\"val_accuracy\"])"
      ],
      "execution_count": 15,
      "outputs": [
        {
          "output_type": "execute_result",
          "data": {
            "text/plain": [
              "[<matplotlib.lines.Line2D at 0x7f95721d9490>]"
            ]
          },
          "metadata": {},
          "execution_count": 15
        },
        {
          "output_type": "display_data",
          "data": {
            "image/png": "[encoded data removed]",
            "text/plain": [
              "<Figure size 432x288 with 1 Axes>"
            ]
          },
          "metadata": {
            "needs_background": "light"
          }
        }
      ]
    },
    {
      "cell_type": "code",
      "metadata": {
        "colab": {
          "base_uri": "https://localhost:8080/"
        },
        "id": "ehR693Hl_Phe",
        "outputId": "9a0fdfeb-cf5f-4dab-9285-f052f8ead194"
      },
      "source": [
        "model_evaluation = model.evaluate(x_test, y_test)\n",
        "model_evaluation\n",
        "print(f\"Model Accuracy: {model_evaluation[1]*100: 0.2f}%\")"
      ],
      "execution_count": 26,
      "outputs": [
        {
          "output_type": "stream",
          "name": "stdout",
          "text": [
            "313/313 [==============================] - 1s 4ms/step - loss: 1.2947 - accuracy: 0.9091\n",
            "Model Accuracy:  90.91%\n"
          ]
        }
      ]
    },
    {
      "cell_type": "code",
      "metadata": {
        "id": "7R_ofaWO_PKG"
      },
      "source": [
        ""
      ],
      "execution_count": null,
      "outputs": []
    }
  ]
}